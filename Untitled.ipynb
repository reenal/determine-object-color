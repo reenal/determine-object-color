{
 "cells": [
  {
   "cell_type": "code",
   "execution_count": 1,
   "metadata": {},
   "outputs": [],
   "source": [
    "import cv2\n",
    "import numpy as np\n",
    "\n",
    "\n",
    "\n"
   ]
  },
  {
   "cell_type": "code",
   "execution_count": 8,
   "metadata": {},
   "outputs": [],
   "source": [
    "img = cv2.imread(r'C:\\Users\\hp\\Downloads\\determining-object-color\\test.jpg')\n",
    "\n",
    "hsv = cv2.cvtColor(img, cv2.COLOR_BGR2HSV)\n",
    "\n",
    "\n",
    "#Red color rangle  169, 100, 100 , 189, 255, 255\n",
    "boundaries = [\n",
    "    ([0,31,255], [176,255,255]), #red\n",
    "\n",
    "    ([110,50,50],[130,255,255]) ,#blue range\n",
    "    \n",
    "    \n",
    "    ]\n",
    "\n",
    "\n",
    "# ([25, 146, 190], [96, 174, 250]) #yellow\n",
    "\n",
    "#green range\n",
    "#lower_green = np.array([40,40, 40])\n",
    "#upper_green = np.array([70, 255, 255])\n",
    "\n",
    "#blue range\n",
    "#lower_blue = np.array([110,50,50])\n",
    "#upper_blue = np.array([130,255,255])\n",
    "\n",
    "#Red range\n",
    "#lower_red = np.array([0,31,255])\n",
    "#upper_red = np.array([176,255,255])\n",
    "\n",
    "#white range\n",
    "#lower_white = np.array([0,0,0])\n",
    "#upper_white = np.array([0,0,255])\n",
    "\n",
    "for (lower, upper) in boundaries:\n",
    "    #lower_range = np.array([169,100,100])\n",
    "    #upper_range = np.array([189,255,255])\n",
    "    # create NumPy arrays from the boundaries\n",
    "    lower = np.array(lower, dtype = \"uint8\")\n",
    "    upper = np.array(upper, dtype = \"uint8\")\n",
    "    mask = cv2.inRange(hsv, lower, upper)\n",
    "\n",
    "cv2.imshow('image', img)\n",
    "cv2.imshow('mask', mask)\n",
    "\n",
    "\n",
    "cv2.waitKey(0)\n",
    "cv2.destroyAllWindows()"
   ]
  }
 ],
 "metadata": {
  "kernelspec": {
   "display_name": "Python 3",
   "language": "python",
   "name": "python3"
  },
  "language_info": {
   "codemirror_mode": {
    "name": "ipython",
    "version": 3
   },
   "file_extension": ".py",
   "mimetype": "text/x-python",
   "name": "python",
   "nbconvert_exporter": "python",
   "pygments_lexer": "ipython3",
   "version": "3.6.10"
  }
 },
 "nbformat": 4,
 "nbformat_minor": 2
}
